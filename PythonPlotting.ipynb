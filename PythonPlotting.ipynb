{
  "nbformat": 4,
  "nbformat_minor": 0,
  "metadata": {
    "colab": {
      "provenance": [],
      "authorship_tag": "ABX9TyP/UENcw41uS++zk8GHJpvx",
      "include_colab_link": true
    },
    "kernelspec": {
      "name": "python3",
      "display_name": "Python 3"
    },
    "language_info": {
      "name": "python"
    }
  },
  "cells": [
    {
      "cell_type": "markdown",
      "metadata": {
        "id": "view-in-github",
        "colab_type": "text"
      },
      "source": [
        "<a href=\"https://colab.research.google.com/github/Ruthh0/First-Repo/blob/main/PythonPlotting.ipynb\" target=\"_parent\"><img src=\"https://colab.research.google.com/assets/colab-badge.svg\" alt=\"Open In Colab\"/></a>"
      ]
    },
    {
      "cell_type": "code",
      "execution_count": 3,
      "metadata": {
        "colab": {
          "base_uri": "https://localhost:8080/"
        },
        "id": "o5KoL4padY9r",
        "outputId": "f98c70fd-b095-4800-e7a2-cf544fd9505e"
      },
      "outputs": [
        {
          "output_type": "stream",
          "name": "stdout",
          "text": [
            "bunny\n"
          ]
        }
      ],
      "source": [
        "print(\"bunny\")\n"
      ]
    },
    {
      "cell_type": "code",
      "source": [
        "x=8\n",
        "print(x)"
      ],
      "metadata": {
        "colab": {
          "base_uri": "https://localhost:8080/"
        },
        "id": "9_QJ1Ts-fYko",
        "outputId": "b40a457a-3ea0-463a-ab46-53f723c348d1"
      },
      "execution_count": 4,
      "outputs": [
        {
          "output_type": "stream",
          "name": "stdout",
          "text": [
            "8\n"
          ]
        }
      ]
    },
    {
      "cell_type": "code",
      "source": [
        "x = 1\n",
        "y = 2\n",
        "\n",
        "print(x)\n",
        "print(y)\n"
      ],
      "metadata": {
        "colab": {
          "base_uri": "https://localhost:8080/"
        },
        "id": "rCC39MSdg2vB",
        "outputId": "e3cdb511-06f0-4400-f35f-a27e28d3242d"
      },
      "execution_count": 6,
      "outputs": [
        {
          "output_type": "stream",
          "name": "stdout",
          "text": [
            "1\n",
            "2\n"
          ]
        }
      ]
    },
    {
      "cell_type": "code",
      "source": [
        "#MAKE FAKE DATA\n",
        "x = [1,2,3,4]\n",
        "y = [1,4,9,16]"
      ],
      "metadata": {
        "id": "_r_BC_GYnVeS"
      },
      "execution_count": 8,
      "outputs": []
    },
    {
      "cell_type": "code",
      "source": [
        "#importing plotting library\n",
        "import matplotlib.pyplot as plt\n",
        "#make fake data\n",
        "#The \"#\" symbol means comment\n",
        "#[] is used for lists - so x and y are lists\n",
        "#Note that y is x squared\n",
        "x = [1,2,3,4,]\n",
        "y = [1,4,9,16]\n",
        "\n",
        "#plot x and y\n",
        "plt.plot(x,y,'pink')\n",
        "\n",
        "\n"
      ],
      "metadata": {
        "colab": {
          "base_uri": "https://localhost:8080/",
          "height": 447
        },
        "id": "9Nim362dpGm4",
        "outputId": "727b9676-cb64-44d7-aaee-d18ee8f64f55"
      },
      "execution_count": 6,
      "outputs": [
        {
          "output_type": "execute_result",
          "data": {
            "text/plain": [
              "[<matplotlib.lines.Line2D at 0x7f31d9215ed0>]"
            ]
          },
          "metadata": {},
          "execution_count": 6
        },
        {
          "output_type": "display_data",
          "data": {
            "text/plain": [
              "<Figure size 640x480 with 1 Axes>"
            ],
            "image/png": "[encoded data removed]"
          },
          "metadata": {}
        }
      ]
    },
    {
      "cell_type": "code",
      "source": [
        "#use numpy\n",
        "import numpy as np\n",
        "\n",
        "#make vector (1-D array);\n",
        "#Technically numpy is converting lists into array\n",
        "x = np.array([1,2,3,4])\n",
        "y = np.array([1,4,9,16])\n",
        "\n",
        "#show\n",
        "print(x)\n",
        "print(y)\n",
        "\n",
        "#Define y differently\n",
        "y = x**2\n",
        "\n",
        "#show\n",
        "print(y)"
      ],
      "metadata": {
        "colab": {
          "base_uri": "https://localhost:8080/"
        },
        "id": "VlFpVMLIrx6V",
        "outputId": "1df4d2b5-fe95-4b56-dd07-06bc6f1833c7"
      },
      "execution_count": 7,
      "outputs": [
        {
          "output_type": "stream",
          "name": "stdout",
          "text": [
            "[1 2 3 4]\n",
            "[ 1  4  9 16]\n",
            "[ 1  4  9 16]\n"
          ]
        }
      ]
    }
  ]
}